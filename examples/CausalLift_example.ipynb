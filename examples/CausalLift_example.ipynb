{
  "nbformat": 4,
  "nbformat_minor": 0,
  "metadata": {
    "colab": {
      "name": "CausalLift_example.ipynb",
      "version": "0.3.2",
      "provenance": [],
      "collapsed_sections": []
    },
    "language_info": {
      "codemirror_mode": {
        "name": "ipython",
        "version": 3
      },
      "file_extension": ".py",
      "mimetype": "text/x-python",
      "name": "python",
      "nbconvert_exporter": "python",
      "pygments_lexer": "ipython3",
      "version": "3.6.7"
    },
    "kernelspec": {
      "display_name": "Python 3",
      "language": "python",
      "name": "python3"
    }
  },
  "cells": [
    {
      "cell_type": "markdown",
      "metadata": {
        "colab_type": "text",
        "id": "Ddg3GhvCNzhp"
      },
      "source": [
        "# CausalLift example\n"
      ]
    },
    {
      "cell_type": "markdown",
      "metadata": {
        "id": "7HcIEH-caI8g",
        "colab_type": "text"
      },
      "source": [
        "### Please see the GitHub repository for details about CausalLift package: \n",
        "\n",
        "https://github.com/Minyus/causallift"
      ]
    },
    {
      "cell_type": "markdown",
      "metadata": {
        "colab_type": "text",
        "id": "Y6koOFehN7cS"
      },
      "source": [
        "## Install CausalLift if run in Google Colab"
      ]
    },
    {
      "cell_type": "code",
      "metadata": {
        "colab_type": "code",
        "id": "efU-1tlPUa7u",
        "outputId": "cc149290-57c8-4a76-90d7-8d397b6f9a74",
        "scrolled": true,
        "colab": {
          "base_uri": "https://localhost:8080/",
          "height": 330
        }
      },
      "source": [
        "try:\n",
        "    from google import colab\n",
        "    !pip3 install causallift\n",
        "except:\n",
        "    print('Continue to run in an environment other than Google Colab.')\n"
      ],
      "execution_count": 0,
      "outputs": [
        {
          "output_type": "stream",
          "text": [
            "Continue to run in an environment other than Google Colab.\n"
          ],
          "name": "stdout"
        }
      ]
    },
    {
      "cell_type": "markdown",
      "metadata": {
        "id": "YmfnfDH6ZzbU",
        "colab_type": "text"
      },
      "source": [
        "## Import CausalLift"
      ]
    },
    {
      "cell_type": "code",
      "metadata": {
        "id": "0vDc4PwLZzbU",
        "colab_type": "code",
        "colab": {}
      },
      "source": [
        "from causallift import CausalLift"
      ],
      "execution_count": 0,
      "outputs": []
    },
    {
      "cell_type": "markdown",
      "metadata": {
        "colab_type": "text",
        "id": "lIRz6XAIp1ot"
      },
      "source": [
        "## Import other modules"
      ]
    },
    {
      "cell_type": "code",
      "metadata": {
        "colab_type": "code",
        "id": "9_QwbwT8Nzh_",
        "colab": {}
      },
      "source": [
        "from sklearn.model_selection import train_test_split\n",
        "\n",
        "import pandas as pd\n",
        "\n",
        "\"\"\" display only top 4 and bottom 4 rows of pandas Data Frame if more than 8 rows \"\"\"\n",
        "pd.options.display.max_rows = 8 \n",
        "\n",
        "seed = 0"
      ],
      "execution_count": 0,
      "outputs": []
    },
    {
      "cell_type": "markdown",
      "metadata": {
        "colab_type": "text",
        "id": "4lQ7WO_JSMx_"
      },
      "source": [
        "## Prepare data"
      ]
    },
    {
      "cell_type": "code",
      "metadata": {
        "colab_type": "code",
        "id": "7WhQk0WwNziD",
        "colab": {}
      },
      "source": [
        "data = 'simulated_observational_data'\n",
        "# data = 'lalonde'\n",
        "\n",
        "if data == 'simulated_observational_data':\n",
        "    \"\"\"\n",
        "    # Generate simulated data\n",
        "    # \"Sleeping dogs\" (a.k.a. \"do-not-disturb\"; people who will \"buy\" if not \n",
        "    treated but will not \"buy\" if treated) can be simulated by negative values \n",
        "    in tau parameter.\n",
        "    # Observational data which includes confounding can be simulated by \n",
        "    non-zero values in propensity_coef parameter.  \n",
        "    # A/B Test (RCT) with a 50:50 split can be simulated by all-zeros values \n",
        "    in propensity_coef parameter (default).\n",
        "    # The first element in each list parameter specifies the intercept.\n",
        "    \"\"\"\n",
        "    from causallift import generate_data\n",
        "\n",
        "    df = generate_data( \\\n",
        "        N=1000, \n",
        "        n_features=3, \n",
        "        beta=[0,-2,3,-5], # Effect of [intercept and features] on outcome \n",
        "        error_std=0.1, \n",
        "        tau=[1,-5,-5,10], # Effect of [intercept and features] on treated outcome\n",
        "        tau_std=0.1, \n",
        "        discrete_outcome=True, \n",
        "        seed=seed, \n",
        "        feature_effect=0, # Effect of beta on treated outxome\n",
        "        propensity_coef=[0,-1,1,-1], # Effect of [intercept and features] on propensity log-odds for treatment\n",
        "        index_name='index')\n",
        "    \n",
        "if data == 'lalonde':\n",
        "    r\"\"\" \n",
        "        Lalonde dataset was used to evaluate propensity score in the paper:\n",
        "        Dehejia, R., & Wahba, S. (1999). Causal Effects in Nonexperimental \n",
        "        Studies: Reevaluating the Evaluation of Training Programs. Journal of \n",
        "        the American Statistical Association, 94(448), 1053-1062. \n",
        "        doi:10.2307/2669919\n",
        "\n",
        "        Lalonde dataset is now included in R package named \"Matching.\"\n",
        "        http://sekhon.berkeley.edu/matching/lalonde.html\n",
        "    \"\"\"\n",
        "    import numpy as np\n",
        "    \n",
        "    def get_lalonde():\n",
        "        r\"\"\" Load datasets, concatenate, and create features to get data frame \n",
        "        similar to 'lalonde' that comes with \"Matching.\")\n",
        "        \"\"\"\n",
        "        cols = ['treat', 'age', 'educ', 'black', 'hisp', 'married', 'nodegr','re74','re75','re78']\n",
        "        control_df = pd.read_csv('http://www.nber.org/~rdehejia/data/nswre74_control.txt', sep='\\s+', header = None, names = cols)\n",
        "        treated_df = pd.read_csv('http://www.nber.org/~rdehejia/data/nswre74_treated.txt', sep='\\s+', header = None, names = cols)\n",
        "        lalonde_df = pd.concat([control_df, treated_df], ignore_index=True)\n",
        "        lalonde_df['u74'] = np.where(lalonde_df['re74'] == 0, 1.0, 0.0)\n",
        "        lalonde_df['u75'] = np.where(lalonde_df['re75'] == 0, 1.0, 0.0)\n",
        "        return lalonde_df\n",
        "    lalonde_df = get_lalonde()\n",
        "    \n",
        "    \"\"\" Prepare the input Data Frame. \"\"\"\n",
        "    df = lalonde_df.copy()\n",
        "    df.rename(columns={'treat':'Treatment', 're78':'Outcome'}, inplace=True)\n",
        "    df['Outcome'] = np.where(df['Outcome'] > 0, 1.0, 0.0)\n",
        "    \n",
        "    # categorize age to 20s, 30s, 40s, and 50s and then one-hot encode age\n",
        "    df.loc[:,'age'] = df['age'].apply(lambda x:'{:.0f}'.format(x)[:-1]+'0s') \n",
        "    df = pd.get_dummies(df, columns=['age'], drop_first=True) \n",
        "    \n",
        "    cols = ['nodegr', 'black', 'hisp', 'age_20s', 'age_30s', 'age_40s', 'age_50s', \n",
        "            'educ', 'married', 'u74', 'u75', 'Treatment', 'Outcome']\n",
        "    df = df[cols]\n",
        "    \n",
        "    "
      ],
      "execution_count": 0,
      "outputs": []
    },
    {
      "cell_type": "code",
      "metadata": {
        "colab_type": "code",
        "id": "QXQSVjycaoZi",
        "outputId": "28fd3c9e-a00c-420b-e68d-ed4aa0ab8dd1",
        "colab": {
          "base_uri": "https://localhost:8080/",
          "height": 387
        }
      },
      "source": [
        "df"
      ],
      "execution_count": 0,
      "outputs": [
        {
          "output_type": "execute_result",
          "data": {
            "text/html": [
              "<div>\n",
              "<style scoped>\n",
              "    .dataframe tbody tr th:only-of-type {\n",
              "        vertical-align: middle;\n",
              "    }\n",
              "\n",
              "    .dataframe tbody tr th {\n",
              "        vertical-align: top;\n",
              "    }\n",
              "\n",
              "    .dataframe thead th {\n",
              "        text-align: right;\n",
              "    }\n",
              "</style>\n",
              "<table border=\"1\" class=\"dataframe\">\n",
              "  <thead>\n",
              "    <tr style=\"text-align: right;\">\n",
              "      <th></th>\n",
              "      <th>0</th>\n",
              "      <th>1</th>\n",
              "      <th>2</th>\n",
              "      <th>Treatment</th>\n",
              "      <th>Outcome</th>\n",
              "    </tr>\n",
              "    <tr>\n",
              "      <th>index</th>\n",
              "      <th></th>\n",
              "      <th></th>\n",
              "      <th></th>\n",
              "      <th></th>\n",
              "      <th></th>\n",
              "    </tr>\n",
              "  </thead>\n",
              "  <tbody>\n",
              "    <tr>\n",
              "      <th>0</th>\n",
              "      <td>0.548814</td>\n",
              "      <td>0.715189</td>\n",
              "      <td>0.602763</td>\n",
              "      <td>1.0</td>\n",
              "      <td>0.0</td>\n",
              "    </tr>\n",
              "    <tr>\n",
              "      <th>1</th>\n",
              "      <td>0.544883</td>\n",
              "      <td>0.423655</td>\n",
              "      <td>0.645894</td>\n",
              "      <td>0.0</td>\n",
              "      <td>0.0</td>\n",
              "    </tr>\n",
              "    <tr>\n",
              "      <th>2</th>\n",
              "      <td>0.437587</td>\n",
              "      <td>0.891773</td>\n",
              "      <td>0.963663</td>\n",
              "      <td>0.0</td>\n",
              "      <td>0.0</td>\n",
              "    </tr>\n",
              "    <tr>\n",
              "      <th>3</th>\n",
              "      <td>0.383442</td>\n",
              "      <td>0.791725</td>\n",
              "      <td>0.528895</td>\n",
              "      <td>0.0</td>\n",
              "      <td>0.0</td>\n",
              "    </tr>\n",
              "    <tr>\n",
              "      <th>...</th>\n",
              "      <td>...</td>\n",
              "      <td>...</td>\n",
              "      <td>...</td>\n",
              "      <td>...</td>\n",
              "      <td>...</td>\n",
              "    </tr>\n",
              "    <tr>\n",
              "      <th>996</th>\n",
              "      <td>0.774353</td>\n",
              "      <td>0.560374</td>\n",
              "      <td>0.082494</td>\n",
              "      <td>0.0</td>\n",
              "      <td>0.0</td>\n",
              "    </tr>\n",
              "    <tr>\n",
              "      <th>997</th>\n",
              "      <td>0.475214</td>\n",
              "      <td>0.287293</td>\n",
              "      <td>0.879682</td>\n",
              "      <td>0.0</td>\n",
              "      <td>0.0</td>\n",
              "    </tr>\n",
              "    <tr>\n",
              "      <th>998</th>\n",
              "      <td>0.284927</td>\n",
              "      <td>0.941687</td>\n",
              "      <td>0.546133</td>\n",
              "      <td>1.0</td>\n",
              "      <td>0.0</td>\n",
              "    </tr>\n",
              "    <tr>\n",
              "      <th>999</th>\n",
              "      <td>0.323614</td>\n",
              "      <td>0.813545</td>\n",
              "      <td>0.697400</td>\n",
              "      <td>1.0</td>\n",
              "      <td>1.0</td>\n",
              "    </tr>\n",
              "  </tbody>\n",
              "</table>\n",
              "<p>1000 rows × 5 columns</p>\n",
              "</div>"
            ],
            "text/plain": [
              "              0         1         2  Treatment  Outcome\n",
              "index                                                  \n",
              "0      0.548814  0.715189  0.602763        1.0      0.0\n",
              "1      0.544883  0.423655  0.645894        0.0      0.0\n",
              "2      0.437587  0.891773  0.963663        0.0      0.0\n",
              "3      0.383442  0.791725  0.528895        0.0      0.0\n",
              "...         ...       ...       ...        ...      ...\n",
              "996    0.774353  0.560374  0.082494        0.0      0.0\n",
              "997    0.475214  0.287293  0.879682        0.0      0.0\n",
              "998    0.284927  0.941687  0.546133        1.0      0.0\n",
              "999    0.323614  0.813545  0.697400        1.0      1.0\n",
              "\n",
              "[1000 rows x 5 columns]"
            ]
          },
          "metadata": {
            "tags": []
          },
          "execution_count": 5
        }
      ]
    },
    {
      "cell_type": "markdown",
      "metadata": {
        "colab_type": "text",
        "id": "Afzqayy6NziF"
      },
      "source": [
        "## EDA"
      ]
    },
    {
      "cell_type": "code",
      "metadata": {
        "colab_type": "code",
        "id": "-a1rD0vvNziG",
        "outputId": "e9993dbc-3450-4853-f9b2-c850c0eb34b5",
        "colab": {
          "base_uri": "https://localhost:8080/",
          "height": 387
        }
      },
      "source": [
        "df"
      ],
      "execution_count": 0,
      "outputs": [
        {
          "output_type": "execute_result",
          "data": {
            "text/html": [
              "<div>\n",
              "<style scoped>\n",
              "    .dataframe tbody tr th:only-of-type {\n",
              "        vertical-align: middle;\n",
              "    }\n",
              "\n",
              "    .dataframe tbody tr th {\n",
              "        vertical-align: top;\n",
              "    }\n",
              "\n",
              "    .dataframe thead th {\n",
              "        text-align: right;\n",
              "    }\n",
              "</style>\n",
              "<table border=\"1\" class=\"dataframe\">\n",
              "  <thead>\n",
              "    <tr style=\"text-align: right;\">\n",
              "      <th></th>\n",
              "      <th>0</th>\n",
              "      <th>1</th>\n",
              "      <th>2</th>\n",
              "      <th>Treatment</th>\n",
              "      <th>Outcome</th>\n",
              "    </tr>\n",
              "    <tr>\n",
              "      <th>index</th>\n",
              "      <th></th>\n",
              "      <th></th>\n",
              "      <th></th>\n",
              "      <th></th>\n",
              "      <th></th>\n",
              "    </tr>\n",
              "  </thead>\n",
              "  <tbody>\n",
              "    <tr>\n",
              "      <th>0</th>\n",
              "      <td>0.548814</td>\n",
              "      <td>0.715189</td>\n",
              "      <td>0.602763</td>\n",
              "      <td>1.0</td>\n",
              "      <td>0.0</td>\n",
              "    </tr>\n",
              "    <tr>\n",
              "      <th>1</th>\n",
              "      <td>0.544883</td>\n",
              "      <td>0.423655</td>\n",
              "      <td>0.645894</td>\n",
              "      <td>0.0</td>\n",
              "      <td>0.0</td>\n",
              "    </tr>\n",
              "    <tr>\n",
              "      <th>2</th>\n",
              "      <td>0.437587</td>\n",
              "      <td>0.891773</td>\n",
              "      <td>0.963663</td>\n",
              "      <td>0.0</td>\n",
              "      <td>0.0</td>\n",
              "    </tr>\n",
              "    <tr>\n",
              "      <th>3</th>\n",
              "      <td>0.383442</td>\n",
              "      <td>0.791725</td>\n",
              "      <td>0.528895</td>\n",
              "      <td>0.0</td>\n",
              "      <td>0.0</td>\n",
              "    </tr>\n",
              "    <tr>\n",
              "      <th>...</th>\n",
              "      <td>...</td>\n",
              "      <td>...</td>\n",
              "      <td>...</td>\n",
              "      <td>...</td>\n",
              "      <td>...</td>\n",
              "    </tr>\n",
              "    <tr>\n",
              "      <th>996</th>\n",
              "      <td>0.774353</td>\n",
              "      <td>0.560374</td>\n",
              "      <td>0.082494</td>\n",
              "      <td>0.0</td>\n",
              "      <td>0.0</td>\n",
              "    </tr>\n",
              "    <tr>\n",
              "      <th>997</th>\n",
              "      <td>0.475214</td>\n",
              "      <td>0.287293</td>\n",
              "      <td>0.879682</td>\n",
              "      <td>0.0</td>\n",
              "      <td>0.0</td>\n",
              "    </tr>\n",
              "    <tr>\n",
              "      <th>998</th>\n",
              "      <td>0.284927</td>\n",
              "      <td>0.941687</td>\n",
              "      <td>0.546133</td>\n",
              "      <td>1.0</td>\n",
              "      <td>0.0</td>\n",
              "    </tr>\n",
              "    <tr>\n",
              "      <th>999</th>\n",
              "      <td>0.323614</td>\n",
              "      <td>0.813545</td>\n",
              "      <td>0.697400</td>\n",
              "      <td>1.0</td>\n",
              "      <td>1.0</td>\n",
              "    </tr>\n",
              "  </tbody>\n",
              "</table>\n",
              "<p>1000 rows × 5 columns</p>\n",
              "</div>"
            ],
            "text/plain": [
              "              0         1         2  Treatment  Outcome\n",
              "index                                                  \n",
              "0      0.548814  0.715189  0.602763        1.0      0.0\n",
              "1      0.544883  0.423655  0.645894        0.0      0.0\n",
              "2      0.437587  0.891773  0.963663        0.0      0.0\n",
              "3      0.383442  0.791725  0.528895        0.0      0.0\n",
              "...         ...       ...       ...        ...      ...\n",
              "996    0.774353  0.560374  0.082494        0.0      0.0\n",
              "997    0.475214  0.287293  0.879682        0.0      0.0\n",
              "998    0.284927  0.941687  0.546133        1.0      0.0\n",
              "999    0.323614  0.813545  0.697400        1.0      1.0\n",
              "\n",
              "[1000 rows x 5 columns]"
            ]
          },
          "metadata": {
            "tags": []
          },
          "execution_count": 6
        }
      ]
    },
    {
      "cell_type": "code",
      "metadata": {
        "colab_type": "code",
        "id": "61lW0lNkNziN",
        "outputId": "b7d80056-4601-4e96-e316-c1a60e24086e",
        "colab": {
          "base_uri": "https://localhost:8080/",
          "height": 172
        }
      },
      "source": [
        "pd.crosstab(df['Outcome'], df['Treatment'], margins = True)"
      ],
      "execution_count": 0,
      "outputs": [
        {
          "output_type": "execute_result",
          "data": {
            "text/html": [
              "<div>\n",
              "<style scoped>\n",
              "    .dataframe tbody tr th:only-of-type {\n",
              "        vertical-align: middle;\n",
              "    }\n",
              "\n",
              "    .dataframe tbody tr th {\n",
              "        vertical-align: top;\n",
              "    }\n",
              "\n",
              "    .dataframe thead th {\n",
              "        text-align: right;\n",
              "    }\n",
              "</style>\n",
              "<table border=\"1\" class=\"dataframe\">\n",
              "  <thead>\n",
              "    <tr style=\"text-align: right;\">\n",
              "      <th>Treatment</th>\n",
              "      <th>0.0</th>\n",
              "      <th>1.0</th>\n",
              "      <th>All</th>\n",
              "    </tr>\n",
              "    <tr>\n",
              "      <th>Outcome</th>\n",
              "      <th></th>\n",
              "      <th></th>\n",
              "      <th></th>\n",
              "    </tr>\n",
              "  </thead>\n",
              "  <tbody>\n",
              "    <tr>\n",
              "      <th>0.0</th>\n",
              "      <td>575</td>\n",
              "      <td>236</td>\n",
              "      <td>811</td>\n",
              "    </tr>\n",
              "    <tr>\n",
              "      <th>1.0</th>\n",
              "      <td>48</td>\n",
              "      <td>141</td>\n",
              "      <td>189</td>\n",
              "    </tr>\n",
              "    <tr>\n",
              "      <th>All</th>\n",
              "      <td>623</td>\n",
              "      <td>377</td>\n",
              "      <td>1000</td>\n",
              "    </tr>\n",
              "  </tbody>\n",
              "</table>\n",
              "</div>"
            ],
            "text/plain": [
              "Treatment  0.0  1.0   All\n",
              "Outcome                  \n",
              "0.0        575  236   811\n",
              "1.0         48  141   189\n",
              "All        623  377  1000"
            ]
          },
          "metadata": {
            "tags": []
          },
          "execution_count": 7
        }
      ]
    },
    {
      "cell_type": "code",
      "metadata": {
        "colab_type": "code",
        "id": "uAgr6x1HNziQ",
        "outputId": "da98ab9e-d860-483e-cbe0-630036f7c272",
        "colab": {
          "base_uri": "https://localhost:8080/",
          "height": 296
        }
      },
      "source": [
        "df.describe()"
      ],
      "execution_count": 0,
      "outputs": [
        {
          "output_type": "execute_result",
          "data": {
            "text/html": [
              "<div>\n",
              "<style scoped>\n",
              "    .dataframe tbody tr th:only-of-type {\n",
              "        vertical-align: middle;\n",
              "    }\n",
              "\n",
              "    .dataframe tbody tr th {\n",
              "        vertical-align: top;\n",
              "    }\n",
              "\n",
              "    .dataframe thead th {\n",
              "        text-align: right;\n",
              "    }\n",
              "</style>\n",
              "<table border=\"1\" class=\"dataframe\">\n",
              "  <thead>\n",
              "    <tr style=\"text-align: right;\">\n",
              "      <th></th>\n",
              "      <th>0</th>\n",
              "      <th>1</th>\n",
              "      <th>2</th>\n",
              "      <th>Treatment</th>\n",
              "      <th>Outcome</th>\n",
              "    </tr>\n",
              "  </thead>\n",
              "  <tbody>\n",
              "    <tr>\n",
              "      <th>count</th>\n",
              "      <td>1000.000000</td>\n",
              "      <td>1000.000000</td>\n",
              "      <td>1000.000000</td>\n",
              "      <td>1000.000000</td>\n",
              "      <td>1000.000000</td>\n",
              "    </tr>\n",
              "    <tr>\n",
              "      <th>mean</th>\n",
              "      <td>0.505377</td>\n",
              "      <td>0.498557</td>\n",
              "      <td>0.508785</td>\n",
              "      <td>0.377000</td>\n",
              "      <td>0.189000</td>\n",
              "    </tr>\n",
              "    <tr>\n",
              "      <th>std</th>\n",
              "      <td>0.298402</td>\n",
              "      <td>0.291584</td>\n",
              "      <td>0.286888</td>\n",
              "      <td>0.484877</td>\n",
              "      <td>0.391705</td>\n",
              "    </tr>\n",
              "    <tr>\n",
              "      <th>min</th>\n",
              "      <td>0.000074</td>\n",
              "      <td>0.000367</td>\n",
              "      <td>0.000546</td>\n",
              "      <td>0.000000</td>\n",
              "      <td>0.000000</td>\n",
              "    </tr>\n",
              "    <tr>\n",
              "      <th>25%</th>\n",
              "      <td>0.245889</td>\n",
              "      <td>0.259544</td>\n",
              "      <td>0.274155</td>\n",
              "      <td>0.000000</td>\n",
              "      <td>0.000000</td>\n",
              "    </tr>\n",
              "    <tr>\n",
              "      <th>50%</th>\n",
              "      <td>0.504705</td>\n",
              "      <td>0.498307</td>\n",
              "      <td>0.499050</td>\n",
              "      <td>0.000000</td>\n",
              "      <td>0.000000</td>\n",
              "    </tr>\n",
              "    <tr>\n",
              "      <th>75%</th>\n",
              "      <td>0.770974</td>\n",
              "      <td>0.756424</td>\n",
              "      <td>0.755279</td>\n",
              "      <td>1.000000</td>\n",
              "      <td>0.000000</td>\n",
              "    </tr>\n",
              "    <tr>\n",
              "      <th>max</th>\n",
              "      <td>0.998355</td>\n",
              "      <td>0.999964</td>\n",
              "      <td>0.999809</td>\n",
              "      <td>1.000000</td>\n",
              "      <td>1.000000</td>\n",
              "    </tr>\n",
              "  </tbody>\n",
              "</table>\n",
              "</div>"
            ],
            "text/plain": [
              "                 0            1            2    Treatment      Outcome\n",
              "count  1000.000000  1000.000000  1000.000000  1000.000000  1000.000000\n",
              "mean      0.505377     0.498557     0.508785     0.377000     0.189000\n",
              "std       0.298402     0.291584     0.286888     0.484877     0.391705\n",
              "min       0.000074     0.000367     0.000546     0.000000     0.000000\n",
              "25%       0.245889     0.259544     0.274155     0.000000     0.000000\n",
              "50%       0.504705     0.498307     0.499050     0.000000     0.000000\n",
              "75%       0.770974     0.756424     0.755279     1.000000     0.000000\n",
              "max       0.998355     0.999964     0.999809     1.000000     1.000000"
            ]
          },
          "metadata": {
            "tags": []
          },
          "execution_count": 8
        }
      ]
    },
    {
      "cell_type": "code",
      "metadata": {
        "colab_type": "code",
        "id": "g2N512pmNziT",
        "outputId": "9dfbffb7-c63c-4c3d-b450-287acb7fe793",
        "colab": {
          "base_uri": "https://localhost:8080/",
          "height": 203
        }
      },
      "source": [
        "df.corr()"
      ],
      "execution_count": 0,
      "outputs": [
        {
          "output_type": "execute_result",
          "data": {
            "text/html": [
              "<div>\n",
              "<style scoped>\n",
              "    .dataframe tbody tr th:only-of-type {\n",
              "        vertical-align: middle;\n",
              "    }\n",
              "\n",
              "    .dataframe tbody tr th {\n",
              "        vertical-align: top;\n",
              "    }\n",
              "\n",
              "    .dataframe thead th {\n",
              "        text-align: right;\n",
              "    }\n",
              "</style>\n",
              "<table border=\"1\" class=\"dataframe\">\n",
              "  <thead>\n",
              "    <tr style=\"text-align: right;\">\n",
              "      <th></th>\n",
              "      <th>0</th>\n",
              "      <th>1</th>\n",
              "      <th>2</th>\n",
              "      <th>Treatment</th>\n",
              "      <th>Outcome</th>\n",
              "    </tr>\n",
              "  </thead>\n",
              "  <tbody>\n",
              "    <tr>\n",
              "      <th>0</th>\n",
              "      <td>1.000000</td>\n",
              "      <td>0.015490</td>\n",
              "      <td>0.066867</td>\n",
              "      <td>-0.168785</td>\n",
              "      <td>-0.422922</td>\n",
              "    </tr>\n",
              "    <tr>\n",
              "      <th>1</th>\n",
              "      <td>0.015490</td>\n",
              "      <td>1.000000</td>\n",
              "      <td>0.030081</td>\n",
              "      <td>0.142777</td>\n",
              "      <td>0.052125</td>\n",
              "    </tr>\n",
              "    <tr>\n",
              "      <th>2</th>\n",
              "      <td>0.066867</td>\n",
              "      <td>0.030081</td>\n",
              "      <td>1.000000</td>\n",
              "      <td>-0.210067</td>\n",
              "      <td>-0.045110</td>\n",
              "    </tr>\n",
              "    <tr>\n",
              "      <th>Treatment</th>\n",
              "      <td>-0.168785</td>\n",
              "      <td>0.142777</td>\n",
              "      <td>-0.210067</td>\n",
              "      <td>1.000000</td>\n",
              "      <td>0.367595</td>\n",
              "    </tr>\n",
              "    <tr>\n",
              "      <th>Outcome</th>\n",
              "      <td>-0.422922</td>\n",
              "      <td>0.052125</td>\n",
              "      <td>-0.045110</td>\n",
              "      <td>0.367595</td>\n",
              "      <td>1.000000</td>\n",
              "    </tr>\n",
              "  </tbody>\n",
              "</table>\n",
              "</div>"
            ],
            "text/plain": [
              "                  0         1         2  Treatment   Outcome\n",
              "0          1.000000  0.015490  0.066867  -0.168785 -0.422922\n",
              "1          0.015490  1.000000  0.030081   0.142777  0.052125\n",
              "2          0.066867  0.030081  1.000000  -0.210067 -0.045110\n",
              "Treatment -0.168785  0.142777 -0.210067   1.000000  0.367595\n",
              "Outcome   -0.422922  0.052125 -0.045110   0.367595  1.000000"
            ]
          },
          "metadata": {
            "tags": []
          },
          "execution_count": 9
        }
      ]
    },
    {
      "cell_type": "markdown",
      "metadata": {
        "colab_type": "text",
        "id": "LAjxUqtINziW"
      },
      "source": [
        "## Split to train and test"
      ]
    },
    {
      "cell_type": "code",
      "metadata": {
        "colab_type": "code",
        "id": "lrmpG__YNziX",
        "colab": {}
      },
      "source": [
        "train_df, test_df = train_test_split(df, test_size=0.2, random_state=seed, stratify=df['Treatment'])"
      ],
      "execution_count": 0,
      "outputs": []
    },
    {
      "cell_type": "markdown",
      "metadata": {
        "colab_type": "text",
        "id": "icQQO5J-dHPP"
      },
      "source": [
        "## Run Uplift modeling"
      ]
    },
    {
      "cell_type": "code",
      "metadata": {
        "colab_type": "code",
        "id": "-Ce89ry357aY",
        "outputId": "0d318461-a2f2-4b48-dce8-ffd56134bfa0",
        "colab": {
          "base_uri": "https://localhost:8080/",
          "height": 1004
        }
      },
      "source": [
        "print('\\n[Estimate propensity scores for Inverse Probability Weighting.]')\n",
        "cl = CausalLift(train_df, test_df, enable_ipw=True, random_state=0, verbose=3)"
      ],
      "execution_count": 0,
      "outputs": [
        {
          "output_type": "stream",
          "text": [
            "\n",
            "[Estimate propensity scores for Inverse Probability Weighting.]\n",
            "## Popensity score is estimated by logistic regression trained using:\n",
            "### Parameters for grid search of Logistic regression:\n",
            "{'C': [0.1, 1, 10], 'class_weight': [None], 'dual': [False], 'fit_intercept': [True], 'intercept_scaling': [1], 'max_iter': [100], 'multi_class': ['ovr'], 'n_jobs': [1], 'penalty': ['l1', 'l2'], 'solver': ['liblinear'], 'tol': [0.0001], 'warm_start': [False]}\n",
            "[LibLinear]### Best parameter for logistic regression:\n",
            "{'C': 1, 'class_weight': None, 'dual': False, 'fit_intercept': True, 'intercept_scaling': 1, 'max_iter': 100, 'multi_class': 'ovr', 'n_jobs': 1, 'penalty': 'l1', 'solver': 'liblinear', 'tol': 0.0001, 'warm_start': False}\n",
            "\n",
            "### Coefficients of logistic regression:\n"
          ],
          "name": "stdout"
        },
        {
          "output_type": "display_data",
          "data": {
            "text/html": [
              "<div>\n",
              "<style scoped>\n",
              "    .dataframe tbody tr th:only-of-type {\n",
              "        vertical-align: middle;\n",
              "    }\n",
              "\n",
              "    .dataframe tbody tr th {\n",
              "        vertical-align: top;\n",
              "    }\n",
              "\n",
              "    .dataframe thead th {\n",
              "        text-align: right;\n",
              "    }\n",
              "</style>\n",
              "<table border=\"1\" class=\"dataframe\">\n",
              "  <thead>\n",
              "    <tr style=\"text-align: right;\">\n",
              "      <th></th>\n",
              "      <th>0</th>\n",
              "      <th>1</th>\n",
              "      <th>2</th>\n",
              "    </tr>\n",
              "  </thead>\n",
              "  <tbody>\n",
              "    <tr>\n",
              "      <th>coefficient</th>\n",
              "      <td>-1.014804</td>\n",
              "      <td>1.245836</td>\n",
              "      <td>-1.433915</td>\n",
              "    </tr>\n",
              "  </tbody>\n",
              "</table>\n",
              "</div>"
            ],
            "text/plain": [
              "                    0         1         2\n",
              "coefficient -1.014804  1.245836 -1.433915"
            ]
          },
          "metadata": {
            "tags": []
          }
        },
        {
          "output_type": "stream",
          "text": [
            "\n",
            "### Histogram of propensity score for train and test data:\n"
          ],
          "name": "stdout"
        },
        {
          "output_type": "display_data",
          "data": {
            "image/png": "[encoded data removed]",
            "text/plain": [
              "<Figure size 432x288 with 1 Axes>"
            ]
          },
          "metadata": {
            "tags": [],
            "needs_background": "light"
          }
        },
        {
          "output_type": "stream",
          "text": [
            "\n",
            "### Score Table for logistic regression to calculate propensity score:\n"
          ],
          "name": "stdout"
        },
        {
          "output_type": "display_data",
          "data": {
            "text/html": [
              "<div>\n",
              "<style scoped>\n",
              "    .dataframe tbody tr th:only-of-type {\n",
              "        vertical-align: middle;\n",
              "    }\n",
              "\n",
              "    .dataframe tbody tr th {\n",
              "        vertical-align: top;\n",
              "    }\n",
              "\n",
              "    .dataframe thead th {\n",
              "        text-align: right;\n",
              "    }\n",
              "</style>\n",
              "<table border=\"1\" class=\"dataframe\">\n",
              "  <thead>\n",
              "    <tr style=\"text-align: right;\">\n",
              "      <th></th>\n",
              "      <th># samples</th>\n",
              "      <th># classes</th>\n",
              "      <th>accuracy</th>\n",
              "      <th>precision</th>\n",
              "      <th>recall</th>\n",
              "      <th>f1</th>\n",
              "      <th>roc_auc</th>\n",
              "      <th>observed conversion rate</th>\n",
              "      <th>predicted conversion rate</th>\n",
              "    </tr>\n",
              "  </thead>\n",
              "  <tbody>\n",
              "    <tr>\n",
              "      <th>train</th>\n",
              "      <td>800</td>\n",
              "      <td>2</td>\n",
              "      <td>0.65875</td>\n",
              "      <td>0.591195</td>\n",
              "      <td>0.311258</td>\n",
              "      <td>0.407809</td>\n",
              "      <td>0.590368</td>\n",
              "      <td>0.3775</td>\n",
              "      <td>0.19875</td>\n",
              "    </tr>\n",
              "    <tr>\n",
              "      <th>test</th>\n",
              "      <td>200</td>\n",
              "      <td>2</td>\n",
              "      <td>0.70000</td>\n",
              "      <td>0.674419</td>\n",
              "      <td>0.386667</td>\n",
              "      <td>0.491525</td>\n",
              "      <td>0.637333</td>\n",
              "      <td>0.3750</td>\n",
              "      <td>0.21500</td>\n",
              "    </tr>\n",
              "  </tbody>\n",
              "</table>\n",
              "</div>"
            ],
            "text/plain": [
              "       # samples  # classes  accuracy  precision    recall        f1  \\\n",
              "train        800          2   0.65875   0.591195  0.311258  0.407809   \n",
              "test         200          2   0.70000   0.674419  0.386667  0.491525   \n",
              "\n",
              "        roc_auc  observed conversion rate  predicted conversion rate  \n",
              "train  0.590368                    0.3775                    0.19875  \n",
              "test   0.637333                    0.3750                    0.21500  "
            ]
          },
          "metadata": {
            "tags": []
          }
        },
        {
          "output_type": "stream",
          "text": [
            "\n",
            "### Confusion Matrix for Train:\n"
          ],
          "name": "stdout"
        },
        {
          "output_type": "display_data",
          "data": {
            "text/html": [
              "<div>\n",
              "<style scoped>\n",
              "    .dataframe tbody tr th:only-of-type {\n",
              "        vertical-align: middle;\n",
              "    }\n",
              "\n",
              "    .dataframe tbody tr th {\n",
              "        vertical-align: top;\n",
              "    }\n",
              "\n",
              "    .dataframe thead th {\n",
              "        text-align: right;\n",
              "    }\n",
              "</style>\n",
              "<table border=\"1\" class=\"dataframe\">\n",
              "  <thead>\n",
              "    <tr style=\"text-align: right;\">\n",
              "      <th></th>\n",
              "      <th>Pred_0</th>\n",
              "      <th>Pred_1</th>\n",
              "    </tr>\n",
              "  </thead>\n",
              "  <tbody>\n",
              "    <tr>\n",
              "      <th>True_0</th>\n",
              "      <td>433</td>\n",
              "      <td>65</td>\n",
              "    </tr>\n",
              "    <tr>\n",
              "      <th>True_1</th>\n",
              "      <td>208</td>\n",
              "      <td>94</td>\n",
              "    </tr>\n",
              "  </tbody>\n",
              "</table>\n",
              "</div>"
            ],
            "text/plain": [
              "        Pred_0  Pred_1\n",
              "True_0     433      65\n",
              "True_1     208      94"
            ]
          },
          "metadata": {
            "tags": []
          }
        },
        {
          "output_type": "stream",
          "text": [
            "\n",
            "### Confusion Matrix for Test:\n"
          ],
          "name": "stdout"
        },
        {
          "output_type": "display_data",
          "data": {
            "text/html": [
              "<div>\n",
              "<style scoped>\n",
              "    .dataframe tbody tr th:only-of-type {\n",
              "        vertical-align: middle;\n",
              "    }\n",
              "\n",
              "    .dataframe tbody tr th {\n",
              "        vertical-align: top;\n",
              "    }\n",
              "\n",
              "    .dataframe thead th {\n",
              "        text-align: right;\n",
              "    }\n",
              "</style>\n",
              "<table border=\"1\" class=\"dataframe\">\n",
              "  <thead>\n",
              "    <tr style=\"text-align: right;\">\n",
              "      <th></th>\n",
              "      <th>Pred_0</th>\n",
              "      <th>Pred_1</th>\n",
              "    </tr>\n",
              "  </thead>\n",
              "  <tbody>\n",
              "    <tr>\n",
              "      <th>True_0</th>\n",
              "      <td>111</td>\n",
              "      <td>14</td>\n",
              "    </tr>\n",
              "    <tr>\n",
              "      <th>True_1</th>\n",
              "      <td>46</td>\n",
              "      <td>29</td>\n",
              "    </tr>\n",
              "  </tbody>\n",
              "</table>\n",
              "</div>"
            ],
            "text/plain": [
              "        Pred_0  Pred_1\n",
              "True_0     111      14\n",
              "True_1      46      29"
            ]
          },
          "metadata": {
            "tags": []
          }
        }
      ]
    },
    {
      "cell_type": "code",
      "metadata": {
        "colab_type": "code",
        "id": "-9tme0ra58pe",
        "outputId": "ea0e27bd-8cc4-43aa-9ae8-3df6fbaf31e2",
        "colab": {
          "base_uri": "https://localhost:8080/",
          "height": 1539
        }
      },
      "source": [
        "print('\\n[Create 2 models for treatment and untreatment and estimate CATE (Conditional Average Treatment Effects)]')\n",
        "train_df, test_df = cl.estimate_cate_by_2_models()\n",
        "\n",
        "print('\\n[Show CATE for train dataset]')\n",
        "display(train_df)\n",
        "train_df.to_csv('CATE_for_Train.csv')\n",
        "\n",
        "print('\\n[Show CATE for test dataset]')\n",
        "display(test_df)\n",
        "test_df.to_csv('CATE_for_Test.csv')"
      ],
      "execution_count": 0,
      "outputs": [
        {
          "output_type": "stream",
          "text": [
            "\n",
            "[Create 2 models for treatment and untreatment and estimate CATE (Conditional Average Treatment Effects)]\n",
            "\n",
            "\n",
            "## Model for Treatment = 1.0\n",
            "### Best parameters of the model trained using samples with observational Treatment: 1.0 \n",
            " {'base_score': 0.5, 'booster': 'gbtree', 'colsample_bylevel': 1, 'colsample_bytree': 1, 'gamma': 0, 'learning_rate': 0.1, 'max_delta_step': 0, 'max_depth': 3, 'min_child_weight': 1, 'missing': None, 'n_estimators': 100, 'n_jobs': -1, 'nthread': None, 'objective': 'binary:logistic', 'reg_alpha': 0, 'reg_lambda': 1, 'scale_pos_weight': 1, 'silent': True, 'subsample': 1}\n",
            "\n",
            "### Feature importances of the model trained using samples with observational Treatment: 1.0\n"
          ],
          "name": "stdout"
        },
        {
          "output_type": "stream",
          "text": [
            "c:\\users\\u\\.virtualenvs\\causallift-dy4q4rka\\lib\\site-packages\\xgboost\\core.py:587: FutureWarning: Series.base is deprecated and will be removed in a future version\n",
            "  if getattr(data, 'base', None) is not None and \\\n"
          ],
          "name": "stderr"
        },
        {
          "output_type": "display_data",
          "data": {
            "text/html": [
              "<div>\n",
              "<style scoped>\n",
              "    .dataframe tbody tr th:only-of-type {\n",
              "        vertical-align: middle;\n",
              "    }\n",
              "\n",
              "    .dataframe tbody tr th {\n",
              "        vertical-align: top;\n",
              "    }\n",
              "\n",
              "    .dataframe thead th {\n",
              "        text-align: right;\n",
              "    }\n",
              "</style>\n",
              "<table border=\"1\" class=\"dataframe\">\n",
              "  <thead>\n",
              "    <tr style=\"text-align: right;\">\n",
              "      <th></th>\n",
              "      <th>0</th>\n",
              "      <th>1</th>\n",
              "      <th>2</th>\n",
              "    </tr>\n",
              "  </thead>\n",
              "  <tbody>\n",
              "    <tr>\n",
              "      <th>feature importance</th>\n",
              "      <td>0.475213</td>\n",
              "      <td>0.172134</td>\n",
              "      <td>0.352653</td>\n",
              "    </tr>\n",
              "  </tbody>\n",
              "</table>\n",
              "</div>"
            ],
            "text/plain": [
              "                           0         1         2\n",
              "feature importance  0.475213  0.172134  0.352653"
            ]
          },
          "metadata": {
            "tags": []
          }
        },
        {
          "output_type": "stream",
          "text": [
            "\n",
            "### Outcome estimated by the model trained using samples with observational Treatment: 1.0\n"
          ],
          "name": "stdout"
        },
        {
          "output_type": "display_data",
          "data": {
            "text/html": [
              "<div>\n",
              "<style scoped>\n",
              "    .dataframe tbody tr th:only-of-type {\n",
              "        vertical-align: middle;\n",
              "    }\n",
              "\n",
              "    .dataframe tbody tr th {\n",
              "        vertical-align: top;\n",
              "    }\n",
              "\n",
              "    .dataframe thead th {\n",
              "        text-align: right;\n",
              "    }\n",
              "</style>\n",
              "<table border=\"1\" class=\"dataframe\">\n",
              "  <thead>\n",
              "    <tr style=\"text-align: right;\">\n",
              "      <th></th>\n",
              "      <th># samples</th>\n",
              "      <th># classes</th>\n",
              "      <th>accuracy</th>\n",
              "      <th>precision</th>\n",
              "      <th>recall</th>\n",
              "      <th>f1</th>\n",
              "      <th>roc_auc</th>\n",
              "      <th>observed conversion rate</th>\n",
              "      <th>predicted conversion rate</th>\n",
              "    </tr>\n",
              "  </thead>\n",
              "  <tbody>\n",
              "    <tr>\n",
              "      <th>train</th>\n",
              "      <td>302</td>\n",
              "      <td>2</td>\n",
              "      <td>1.000000</td>\n",
              "      <td>1.0</td>\n",
              "      <td>1.000000</td>\n",
              "      <td>1.000000</td>\n",
              "      <td>1.000000</td>\n",
              "      <td>0.364238</td>\n",
              "      <td>0.364238</td>\n",
              "    </tr>\n",
              "    <tr>\n",
              "      <th>test</th>\n",
              "      <td>75</td>\n",
              "      <td>2</td>\n",
              "      <td>0.973333</td>\n",
              "      <td>1.0</td>\n",
              "      <td>0.935484</td>\n",
              "      <td>0.966667</td>\n",
              "      <td>0.967742</td>\n",
              "      <td>0.413333</td>\n",
              "      <td>0.386667</td>\n",
              "    </tr>\n",
              "  </tbody>\n",
              "</table>\n",
              "</div>"
            ],
            "text/plain": [
              "       # samples  # classes  accuracy  precision    recall        f1  \\\n",
              "train        302          2  1.000000        1.0  1.000000  1.000000   \n",
              "test          75          2  0.973333        1.0  0.935484  0.966667   \n",
              "\n",
              "        roc_auc  observed conversion rate  predicted conversion rate  \n",
              "train  1.000000                  0.364238                   0.364238  \n",
              "test   0.967742                  0.413333                   0.386667  "
            ]
          },
          "metadata": {
            "tags": []
          }
        },
        {
          "output_type": "stream",
          "text": [
            "\n",
            "\n",
            "## Model for Treatment = 0.0\n"
          ],
          "name": "stdout"
        },
        {
          "output_type": "stream",
          "text": [
            "c:\\users\\u\\.virtualenvs\\causallift-dy4q4rka\\lib\\site-packages\\xgboost\\core.py:587: FutureWarning: Series.base is deprecated and will be removed in a future version\n",
            "  if getattr(data, 'base', None) is not None and \\\n"
          ],
          "name": "stderr"
        },
        {
          "output_type": "stream",
          "text": [
            "### Best parameters of the model trained using samples with observational Treatment: 0.0 \n",
            " {'base_score': 0.5, 'booster': 'gbtree', 'colsample_bylevel': 1, 'colsample_bytree': 1, 'gamma': 0, 'learning_rate': 0.1, 'max_delta_step': 0, 'max_depth': 3, 'min_child_weight': 1, 'missing': None, 'n_estimators': 100, 'n_jobs': -1, 'nthread': None, 'objective': 'binary:logistic', 'reg_alpha': 0, 'reg_lambda': 1, 'scale_pos_weight': 1, 'silent': True, 'subsample': 1}\n",
            "\n",
            "### Feature importances of the model trained using samples with observational Treatment: 0.0\n"
          ],
          "name": "stdout"
        },
        {
          "output_type": "display_data",
          "data": {
            "text/html": [
              "<div>\n",
              "<style scoped>\n",
              "    .dataframe tbody tr th:only-of-type {\n",
              "        vertical-align: middle;\n",
              "    }\n",
              "\n",
              "    .dataframe tbody tr th {\n",
              "        vertical-align: top;\n",
              "    }\n",
              "\n",
              "    .dataframe thead th {\n",
              "        text-align: right;\n",
              "    }\n",
              "</style>\n",
              "<table border=\"1\" class=\"dataframe\">\n",
              "  <thead>\n",
              "    <tr style=\"text-align: right;\">\n",
              "      <th></th>\n",
              "      <th>0</th>\n",
              "      <th>1</th>\n",
              "      <th>2</th>\n",
              "    </tr>\n",
              "  </thead>\n",
              "  <tbody>\n",
              "    <tr>\n",
              "      <th>feature importance</th>\n",
              "      <td>0.241131</td>\n",
              "      <td>0.321848</td>\n",
              "      <td>0.43702</td>\n",
              "    </tr>\n",
              "  </tbody>\n",
              "</table>\n",
              "</div>"
            ],
            "text/plain": [
              "                           0         1        2\n",
              "feature importance  0.241131  0.321848  0.43702"
            ]
          },
          "metadata": {
            "tags": []
          }
        },
        {
          "output_type": "stream",
          "text": [
            "\n",
            "### Outcome estimated by the model trained using samples with observational Treatment: 0.0\n"
          ],
          "name": "stdout"
        },
        {
          "output_type": "display_data",
          "data": {
            "text/html": [
              "<div>\n",
              "<style scoped>\n",
              "    .dataframe tbody tr th:only-of-type {\n",
              "        vertical-align: middle;\n",
              "    }\n",
              "\n",
              "    .dataframe tbody tr th {\n",
              "        vertical-align: top;\n",
              "    }\n",
              "\n",
              "    .dataframe thead th {\n",
              "        text-align: right;\n",
              "    }\n",
              "</style>\n",
              "<table border=\"1\" class=\"dataframe\">\n",
              "  <thead>\n",
              "    <tr style=\"text-align: right;\">\n",
              "      <th></th>\n",
              "      <th># samples</th>\n",
              "      <th># classes</th>\n",
              "      <th>accuracy</th>\n",
              "      <th>precision</th>\n",
              "      <th>recall</th>\n",
              "      <th>f1</th>\n",
              "      <th>roc_auc</th>\n",
              "      <th>observed conversion rate</th>\n",
              "      <th>predicted conversion rate</th>\n",
              "    </tr>\n",
              "  </thead>\n",
              "  <tbody>\n",
              "    <tr>\n",
              "      <th>train</th>\n",
              "      <td>498</td>\n",
              "      <td>2</td>\n",
              "      <td>1.000</td>\n",
              "      <td>1.0</td>\n",
              "      <td>1.00</td>\n",
              "      <td>1.000000</td>\n",
              "      <td>1.000</td>\n",
              "      <td>0.072289</td>\n",
              "      <td>0.072289</td>\n",
              "    </tr>\n",
              "    <tr>\n",
              "      <th>test</th>\n",
              "      <td>125</td>\n",
              "      <td>2</td>\n",
              "      <td>0.976</td>\n",
              "      <td>1.0</td>\n",
              "      <td>0.75</td>\n",
              "      <td>0.857143</td>\n",
              "      <td>0.875</td>\n",
              "      <td>0.096000</td>\n",
              "      <td>0.072000</td>\n",
              "    </tr>\n",
              "  </tbody>\n",
              "</table>\n",
              "</div>"
            ],
            "text/plain": [
              "       # samples  # classes  accuracy  precision  recall        f1  roc_auc  \\\n",
              "train        498          2     1.000        1.0    1.00  1.000000    1.000   \n",
              "test         125          2     0.976        1.0    0.75  0.857143    0.875   \n",
              "\n",
              "       observed conversion rate  predicted conversion rate  \n",
              "train                  0.072289                   0.072289  \n",
              "test                   0.096000                   0.072000  "
            ]
          },
          "metadata": {
            "tags": []
          }
        },
        {
          "output_type": "stream",
          "text": [
            "### Treatment fraction in train dataset:  0.3775\n",
            "### Treatment fraction in test dataset:  0.375\n",
            "\n",
            "[Show CATE for train dataset]\n"
          ],
          "name": "stdout"
        },
        {
          "output_type": "display_data",
          "data": {
            "text/html": [
              "<div>\n",
              "<style scoped>\n",
              "    .dataframe tbody tr th:only-of-type {\n",
              "        vertical-align: middle;\n",
              "    }\n",
              "\n",
              "    .dataframe tbody tr th {\n",
              "        vertical-align: top;\n",
              "    }\n",
              "\n",
              "    .dataframe thead th {\n",
              "        text-align: right;\n",
              "    }\n",
              "</style>\n",
              "<table border=\"1\" class=\"dataframe\">\n",
              "  <thead>\n",
              "    <tr style=\"text-align: right;\">\n",
              "      <th></th>\n",
              "      <th>0</th>\n",
              "      <th>1</th>\n",
              "      <th>2</th>\n",
              "      <th>Treatment</th>\n",
              "      <th>Outcome</th>\n",
              "      <th>Propensity</th>\n",
              "      <th>CATE</th>\n",
              "    </tr>\n",
              "    <tr>\n",
              "      <th>index</th>\n",
              "      <th></th>\n",
              "      <th></th>\n",
              "      <th></th>\n",
              "      <th></th>\n",
              "      <th></th>\n",
              "      <th></th>\n",
              "      <th></th>\n",
              "    </tr>\n",
              "  </thead>\n",
              "  <tbody>\n",
              "    <tr>\n",
              "      <th>664</th>\n",
              "      <td>0.027653</td>\n",
              "      <td>0.660339</td>\n",
              "      <td>0.414439</td>\n",
              "      <td>1.0</td>\n",
              "      <td>1.0</td>\n",
              "      <td>0.568220</td>\n",
              "      <td>0.979456</td>\n",
              "    </tr>\n",
              "    <tr>\n",
              "      <th>392</th>\n",
              "      <td>0.389549</td>\n",
              "      <td>0.263768</td>\n",
              "      <td>0.944626</td>\n",
              "      <td>0.0</td>\n",
              "      <td>0.0</td>\n",
              "      <td>0.206367</td>\n",
              "      <td>0.998100</td>\n",
              "    </tr>\n",
              "    <tr>\n",
              "      <th>802</th>\n",
              "      <td>0.023237</td>\n",
              "      <td>0.531104</td>\n",
              "      <td>0.204781</td>\n",
              "      <td>0.0</td>\n",
              "      <td>1.0</td>\n",
              "      <td>0.603172</td>\n",
              "      <td>-0.017248</td>\n",
              "    </tr>\n",
              "    <tr>\n",
              "      <th>226</th>\n",
              "      <td>0.110477</td>\n",
              "      <td>0.405036</td>\n",
              "      <td>0.405374</td>\n",
              "      <td>1.0</td>\n",
              "      <td>1.0</td>\n",
              "      <td>0.471400</td>\n",
              "      <td>0.997414</td>\n",
              "    </tr>\n",
              "    <tr>\n",
              "      <th>...</th>\n",
              "      <td>...</td>\n",
              "      <td>...</td>\n",
              "      <td>...</td>\n",
              "      <td>...</td>\n",
              "      <td>...</td>\n",
              "      <td>...</td>\n",
              "      <td>...</td>\n",
              "    </tr>\n",
              "    <tr>\n",
              "      <th>816</th>\n",
              "      <td>0.584645</td>\n",
              "      <td>0.091271</td>\n",
              "      <td>0.600471</td>\n",
              "      <td>0.0</td>\n",
              "      <td>0.0</td>\n",
              "      <td>0.219880</td>\n",
              "      <td>0.524069</td>\n",
              "    </tr>\n",
              "    <tr>\n",
              "      <th>501</th>\n",
              "      <td>0.493945</td>\n",
              "      <td>0.929619</td>\n",
              "      <td>0.667215</td>\n",
              "      <td>1.0</td>\n",
              "      <td>0.0</td>\n",
              "      <td>0.443842</td>\n",
              "      <td>0.036610</td>\n",
              "    </tr>\n",
              "    <tr>\n",
              "      <th>724</th>\n",
              "      <td>0.356007</td>\n",
              "      <td>0.987435</td>\n",
              "      <td>0.013655</td>\n",
              "      <td>1.0</td>\n",
              "      <td>0.0</td>\n",
              "      <td>0.715770</td>\n",
              "      <td>-0.998410</td>\n",
              "    </tr>\n",
              "    <tr>\n",
              "      <th>304</th>\n",
              "      <td>0.980486</td>\n",
              "      <td>0.096451</td>\n",
              "      <td>0.863471</td>\n",
              "      <td>0.0</td>\n",
              "      <td>0.0</td>\n",
              "      <td>0.115196</td>\n",
              "      <td>0.502681</td>\n",
              "    </tr>\n",
              "  </tbody>\n",
              "</table>\n",
              "<p>800 rows × 7 columns</p>\n",
              "</div>"
            ],
            "text/plain": [
              "              0         1         2  Treatment  Outcome  Propensity      CATE\n",
              "index                                                                        \n",
              "664    0.027653  0.660339  0.414439        1.0      1.0    0.568220  0.979456\n",
              "392    0.389549  0.263768  0.944626        0.0      0.0    0.206367  0.998100\n",
              "802    0.023237  0.531104  0.204781        0.0      1.0    0.603172 -0.017248\n",
              "226    0.110477  0.405036  0.405374        1.0      1.0    0.471400  0.997414\n",
              "...         ...       ...       ...        ...      ...         ...       ...\n",
              "816    0.584645  0.091271  0.600471        0.0      0.0    0.219880  0.524069\n",
              "501    0.493945  0.929619  0.667215        1.0      0.0    0.443842  0.036610\n",
              "724    0.356007  0.987435  0.013655        1.0      0.0    0.715770 -0.998410\n",
              "304    0.980486  0.096451  0.863471        0.0      0.0    0.115196  0.502681\n",
              "\n",
              "[800 rows x 7 columns]"
            ]
          },
          "metadata": {
            "tags": []
          }
        },
        {
          "output_type": "stream",
          "text": [
            "\n",
            "[Show CATE for test dataset]\n"
          ],
          "name": "stdout"
        },
        {
          "output_type": "display_data",
          "data": {
            "text/html": [
              "<div>\n",
              "<style scoped>\n",
              "    .dataframe tbody tr th:only-of-type {\n",
              "        vertical-align: middle;\n",
              "    }\n",
              "\n",
              "    .dataframe tbody tr th {\n",
              "        vertical-align: top;\n",
              "    }\n",
              "\n",
              "    .dataframe thead th {\n",
              "        text-align: right;\n",
              "    }\n",
              "</style>\n",
              "<table border=\"1\" class=\"dataframe\">\n",
              "  <thead>\n",
              "    <tr style=\"text-align: right;\">\n",
              "      <th></th>\n",
              "      <th>0</th>\n",
              "      <th>1</th>\n",
              "      <th>2</th>\n",
              "      <th>Treatment</th>\n",
              "      <th>Outcome</th>\n",
              "      <th>Propensity</th>\n",
              "      <th>CATE</th>\n",
              "    </tr>\n",
              "    <tr>\n",
              "      <th>index</th>\n",
              "      <th></th>\n",
              "      <th></th>\n",
              "      <th></th>\n",
              "      <th></th>\n",
              "      <th></th>\n",
              "      <th></th>\n",
              "      <th></th>\n",
              "    </tr>\n",
              "  </thead>\n",
              "  <tbody>\n",
              "    <tr>\n",
              "      <th>683</th>\n",
              "      <td>0.083165</td>\n",
              "      <td>0.974774</td>\n",
              "      <td>0.049285</td>\n",
              "      <td>0.0</td>\n",
              "      <td>1.0</td>\n",
              "      <td>0.756501</td>\n",
              "      <td>-0.953303</td>\n",
              "    </tr>\n",
              "    <tr>\n",
              "      <th>612</th>\n",
              "      <td>0.599581</td>\n",
              "      <td>0.430181</td>\n",
              "      <td>0.909093</td>\n",
              "      <td>0.0</td>\n",
              "      <td>0.0</td>\n",
              "      <td>0.213857</td>\n",
              "      <td>0.503404</td>\n",
              "    </tr>\n",
              "    <tr>\n",
              "      <th>225</th>\n",
              "      <td>0.653421</td>\n",
              "      <td>0.726342</td>\n",
              "      <td>0.536923</td>\n",
              "      <td>1.0</td>\n",
              "      <td>0.0</td>\n",
              "      <td>0.388448</td>\n",
              "      <td>0.000039</td>\n",
              "    </tr>\n",
              "    <tr>\n",
              "      <th>311</th>\n",
              "      <td>0.099733</td>\n",
              "      <td>0.475589</td>\n",
              "      <td>0.820022</td>\n",
              "      <td>0.0</td>\n",
              "      <td>0.0</td>\n",
              "      <td>0.351992</td>\n",
              "      <td>0.999037</td>\n",
              "    </tr>\n",
              "    <tr>\n",
              "      <th>...</th>\n",
              "      <td>...</td>\n",
              "      <td>...</td>\n",
              "      <td>...</td>\n",
              "      <td>...</td>\n",
              "      <td>...</td>\n",
              "      <td>...</td>\n",
              "      <td>...</td>\n",
              "    </tr>\n",
              "    <tr>\n",
              "      <th>990</th>\n",
              "      <td>0.351035</td>\n",
              "      <td>0.800597</td>\n",
              "      <td>0.365044</td>\n",
              "      <td>1.0</td>\n",
              "      <td>0.0</td>\n",
              "      <td>0.547851</td>\n",
              "      <td>-0.127348</td>\n",
              "    </tr>\n",
              "    <tr>\n",
              "      <th>893</th>\n",
              "      <td>0.693592</td>\n",
              "      <td>0.673458</td>\n",
              "      <td>0.952937</td>\n",
              "      <td>0.0</td>\n",
              "      <td>0.0</td>\n",
              "      <td>0.239209</td>\n",
              "      <td>0.134084</td>\n",
              "    </tr>\n",
              "    <tr>\n",
              "      <th>212</th>\n",
              "      <td>0.117320</td>\n",
              "      <td>0.107004</td>\n",
              "      <td>0.589695</td>\n",
              "      <td>0.0</td>\n",
              "      <td>0.0</td>\n",
              "      <td>0.319283</td>\n",
              "      <td>0.999383</td>\n",
              "    </tr>\n",
              "    <tr>\n",
              "      <th>299</th>\n",
              "      <td>0.627735</td>\n",
              "      <td>0.401428</td>\n",
              "      <td>0.416692</td>\n",
              "      <td>0.0</td>\n",
              "      <td>0.0</td>\n",
              "      <td>0.340703</td>\n",
              "      <td>0.002220</td>\n",
              "    </tr>\n",
              "  </tbody>\n",
              "</table>\n",
              "<p>200 rows × 7 columns</p>\n",
              "</div>"
            ],
            "text/plain": [
              "              0         1         2  Treatment  Outcome  Propensity      CATE\n",
              "index                                                                        \n",
              "683    0.083165  0.974774  0.049285        0.0      1.0    0.756501 -0.953303\n",
              "612    0.599581  0.430181  0.909093        0.0      0.0    0.213857  0.503404\n",
              "225    0.653421  0.726342  0.536923        1.0      0.0    0.388448  0.000039\n",
              "311    0.099733  0.475589  0.820022        0.0      0.0    0.351992  0.999037\n",
              "...         ...       ...       ...        ...      ...         ...       ...\n",
              "990    0.351035  0.800597  0.365044        1.0      0.0    0.547851 -0.127348\n",
              "893    0.693592  0.673458  0.952937        0.0      0.0    0.239209  0.134084\n",
              "212    0.117320  0.107004  0.589695        0.0      0.0    0.319283  0.999383\n",
              "299    0.627735  0.401428  0.416692        0.0      0.0    0.340703  0.002220\n",
              "\n",
              "[200 rows x 7 columns]"
            ]
          },
          "metadata": {
            "tags": []
          }
        }
      ]
    },
    {
      "cell_type": "code",
      "metadata": {
        "colab_type": "code",
        "id": "C9OBcUIsL46J",
        "outputId": "ae9f5c1b-2c77-41a0-d341-974795d46c6d",
        "colab": {
          "base_uri": "https://localhost:8080/",
          "height": 727
        }
      },
      "source": [
        "print('\\n[Estimate the effect of recommendation based on the uplift model]')\n",
        "estimated_effect_df = cl.estimate_recommendation_impact()\n",
        "\n",
        "print('\\n[Show the estimated effect of recommendation based on the uplift model]')\n",
        "display(estimated_effect_df)"
      ],
      "execution_count": 0,
      "outputs": [
        {
          "output_type": "stream",
          "text": [
            "\n",
            "[Estimate the effect of recommendation based on the uplift model]\n",
            "\n",
            "### Simulated outcome of samples recommended to be treatment: 1.0 by the uplift model:\n"
          ],
          "name": "stdout"
        },
        {
          "output_type": "display_data",
          "data": {
            "text/html": [
              "<div>\n",
              "<style scoped>\n",
              "    .dataframe tbody tr th:only-of-type {\n",
              "        vertical-align: middle;\n",
              "    }\n",
              "\n",
              "    .dataframe tbody tr th {\n",
              "        vertical-align: top;\n",
              "    }\n",
              "\n",
              "    .dataframe thead th {\n",
              "        text-align: right;\n",
              "    }\n",
              "</style>\n",
              "<table border=\"1\" class=\"dataframe\">\n",
              "  <thead>\n",
              "    <tr style=\"text-align: right;\">\n",
              "      <th></th>\n",
              "      <th># samples</th>\n",
              "      <th># classes</th>\n",
              "      <th>accuracy</th>\n",
              "      <th>precision</th>\n",
              "      <th>recall</th>\n",
              "      <th>f1</th>\n",
              "      <th>roc_auc</th>\n",
              "      <th>observed conversion rate</th>\n",
              "      <th>predicted conversion rate</th>\n",
              "    </tr>\n",
              "  </thead>\n",
              "  <tbody>\n",
              "    <tr>\n",
              "      <th>train</th>\n",
              "      <td>302</td>\n",
              "      <td>2</td>\n",
              "      <td>0.380795</td>\n",
              "      <td>0.352941</td>\n",
              "      <td>1.0</td>\n",
              "      <td>0.521739</td>\n",
              "      <td>0.5325</td>\n",
              "      <td>0.337748</td>\n",
              "      <td>0.956954</td>\n",
              "    </tr>\n",
              "    <tr>\n",
              "      <th>test</th>\n",
              "      <td>75</td>\n",
              "      <td>2</td>\n",
              "      <td>0.373333</td>\n",
              "      <td>0.373333</td>\n",
              "      <td>1.0</td>\n",
              "      <td>0.543689</td>\n",
              "      <td>0.5000</td>\n",
              "      <td>0.373333</td>\n",
              "      <td>1.000000</td>\n",
              "    </tr>\n",
              "  </tbody>\n",
              "</table>\n",
              "</div>"
            ],
            "text/plain": [
              "       # samples  # classes  accuracy  precision  recall        f1  roc_auc  \\\n",
              "train        302          2  0.380795   0.352941     1.0  0.521739   0.5325   \n",
              "test          75          2  0.373333   0.373333     1.0  0.543689   0.5000   \n",
              "\n",
              "       observed conversion rate  predicted conversion rate  \n",
              "train                  0.337748                   0.956954  \n",
              "test                   0.373333                   1.000000  "
            ]
          },
          "metadata": {
            "tags": []
          }
        },
        {
          "output_type": "stream",
          "text": [
            "\n",
            "### Simulated outcome of samples recommended to be treatment: 0.0 by the uplift model:\n"
          ],
          "name": "stdout"
        },
        {
          "output_type": "display_data",
          "data": {
            "text/html": [
              "<div>\n",
              "<style scoped>\n",
              "    .dataframe tbody tr th:only-of-type {\n",
              "        vertical-align: middle;\n",
              "    }\n",
              "\n",
              "    .dataframe tbody tr th {\n",
              "        vertical-align: top;\n",
              "    }\n",
              "\n",
              "    .dataframe thead th {\n",
              "        text-align: right;\n",
              "    }\n",
              "</style>\n",
              "<table border=\"1\" class=\"dataframe\">\n",
              "  <thead>\n",
              "    <tr style=\"text-align: right;\">\n",
              "      <th></th>\n",
              "      <th># samples</th>\n",
              "      <th># classes</th>\n",
              "      <th>accuracy</th>\n",
              "      <th>precision</th>\n",
              "      <th>recall</th>\n",
              "      <th>f1</th>\n",
              "      <th>roc_auc</th>\n",
              "      <th>observed conversion rate</th>\n",
              "      <th>predicted conversion rate</th>\n",
              "    </tr>\n",
              "  </thead>\n",
              "  <tbody>\n",
              "    <tr>\n",
              "      <th>train</th>\n",
              "      <td>498</td>\n",
              "      <td>2</td>\n",
              "      <td>0.919679</td>\n",
              "      <td>0.52381</td>\n",
              "      <td>1.000000</td>\n",
              "      <td>0.687500</td>\n",
              "      <td>0.955947</td>\n",
              "      <td>0.088353</td>\n",
              "      <td>0.168675</td>\n",
              "    </tr>\n",
              "    <tr>\n",
              "      <th>test</th>\n",
              "      <td>125</td>\n",
              "      <td>2</td>\n",
              "      <td>0.880000</td>\n",
              "      <td>0.50000</td>\n",
              "      <td>0.666667</td>\n",
              "      <td>0.571429</td>\n",
              "      <td>0.787879</td>\n",
              "      <td>0.120000</td>\n",
              "      <td>0.160000</td>\n",
              "    </tr>\n",
              "  </tbody>\n",
              "</table>\n",
              "</div>"
            ],
            "text/plain": [
              "       # samples  # classes  accuracy  precision    recall        f1  \\\n",
              "train        498          2  0.919679    0.52381  1.000000  0.687500   \n",
              "test         125          2  0.880000    0.50000  0.666667  0.571429   \n",
              "\n",
              "        roc_auc  observed conversion rate  predicted conversion rate  \n",
              "train  0.955947                  0.088353                   0.168675  \n",
              "test   0.787879                  0.120000                   0.160000  "
            ]
          },
          "metadata": {
            "tags": []
          }
        },
        {
          "output_type": "stream",
          "text": [
            "\n",
            "### Treated samples without and with uplift model:\n"
          ],
          "name": "stdout"
        },
        {
          "output_type": "display_data",
          "data": {
            "text/html": [
              "<div>\n",
              "<style scoped>\n",
              "    .dataframe tbody tr th:only-of-type {\n",
              "        vertical-align: middle;\n",
              "    }\n",
              "\n",
              "    .dataframe tbody tr th {\n",
              "        vertical-align: top;\n",
              "    }\n",
              "\n",
              "    .dataframe thead th {\n",
              "        text-align: right;\n",
              "    }\n",
              "</style>\n",
              "<table border=\"1\" class=\"dataframe\">\n",
              "  <thead>\n",
              "    <tr style=\"text-align: right;\">\n",
              "      <th></th>\n",
              "      <th># samples chosen without uplift model</th>\n",
              "      <th>observed conversion rate without uplift model</th>\n",
              "      <th># samples recommended by uplift model</th>\n",
              "      <th>predicted conversion rate using uplift model</th>\n",
              "      <th>predicted improvement rate</th>\n",
              "    </tr>\n",
              "  </thead>\n",
              "  <tbody>\n",
              "    <tr>\n",
              "      <th>train</th>\n",
              "      <td>302</td>\n",
              "      <td>0.364238</td>\n",
              "      <td>302</td>\n",
              "      <td>0.956954</td>\n",
              "      <td>2.627273</td>\n",
              "    </tr>\n",
              "    <tr>\n",
              "      <th>test</th>\n",
              "      <td>75</td>\n",
              "      <td>0.413333</td>\n",
              "      <td>75</td>\n",
              "      <td>1.000000</td>\n",
              "      <td>2.419355</td>\n",
              "    </tr>\n",
              "  </tbody>\n",
              "</table>\n",
              "</div>"
            ],
            "text/plain": [
              "       # samples chosen without uplift model  \\\n",
              "train                                    302   \n",
              "test                                      75   \n",
              "\n",
              "       observed conversion rate without uplift model  \\\n",
              "train                                       0.364238   \n",
              "test                                        0.413333   \n",
              "\n",
              "       # samples recommended by uplift model  \\\n",
              "train                                    302   \n",
              "test                                      75   \n",
              "\n",
              "       predicted conversion rate using uplift model  \\\n",
              "train                                      0.956954   \n",
              "test                                       1.000000   \n",
              "\n",
              "       predicted improvement rate  \n",
              "train                    2.627273  \n",
              "test                     2.419355  "
            ]
          },
          "metadata": {
            "tags": []
          }
        },
        {
          "output_type": "stream",
          "text": [
            "\n",
            "### Untreated samples without and with uplift model:\n"
          ],
          "name": "stdout"
        },
        {
          "output_type": "display_data",
          "data": {
            "text/html": [
              "<div>\n",
              "<style scoped>\n",
              "    .dataframe tbody tr th:only-of-type {\n",
              "        vertical-align: middle;\n",
              "    }\n",
              "\n",
              "    .dataframe tbody tr th {\n",
              "        vertical-align: top;\n",
              "    }\n",
              "\n",
              "    .dataframe thead th {\n",
              "        text-align: right;\n",
              "    }\n",
              "</style>\n",
              "<table border=\"1\" class=\"dataframe\">\n",
              "  <thead>\n",
              "    <tr style=\"text-align: right;\">\n",
              "      <th></th>\n",
              "      <th># samples chosen without uplift model</th>\n",
              "      <th>observed conversion rate without uplift model</th>\n",
              "      <th># samples recommended by uplift model</th>\n",
              "      <th>predicted conversion rate using uplift model</th>\n",
              "      <th>predicted improvement rate</th>\n",
              "    </tr>\n",
              "  </thead>\n",
              "  <tbody>\n",
              "    <tr>\n",
              "      <th>train</th>\n",
              "      <td>498</td>\n",
              "      <td>0.072289</td>\n",
              "      <td>498</td>\n",
              "      <td>0.168675</td>\n",
              "      <td>2.333333</td>\n",
              "    </tr>\n",
              "    <tr>\n",
              "      <th>test</th>\n",
              "      <td>125</td>\n",
              "      <td>0.096000</td>\n",
              "      <td>125</td>\n",
              "      <td>0.160000</td>\n",
              "      <td>1.666667</td>\n",
              "    </tr>\n",
              "  </tbody>\n",
              "</table>\n",
              "</div>"
            ],
            "text/plain": [
              "       # samples chosen without uplift model  \\\n",
              "train                                    498   \n",
              "test                                     125   \n",
              "\n",
              "       observed conversion rate without uplift model  \\\n",
              "train                                       0.072289   \n",
              "test                                        0.096000   \n",
              "\n",
              "       # samples recommended by uplift model  \\\n",
              "train                                    498   \n",
              "test                                     125   \n",
              "\n",
              "       predicted conversion rate using uplift model  \\\n",
              "train                                      0.168675   \n",
              "test                                       0.160000   \n",
              "\n",
              "       predicted improvement rate  \n",
              "train                    2.333333  \n",
              "test                     1.666667  "
            ]
          },
          "metadata": {
            "tags": []
          }
        },
        {
          "output_type": "stream",
          "text": [
            "\n",
            "[Show the estimated effect of recommendation based on the uplift model]\n"
          ],
          "name": "stdout"
        },
        {
          "output_type": "display_data",
          "data": {
            "text/html": [
              "<div>\n",
              "<style scoped>\n",
              "    .dataframe tbody tr th:only-of-type {\n",
              "        vertical-align: middle;\n",
              "    }\n",
              "\n",
              "    .dataframe tbody tr th {\n",
              "        vertical-align: top;\n",
              "    }\n",
              "\n",
              "    .dataframe thead th {\n",
              "        text-align: right;\n",
              "    }\n",
              "</style>\n",
              "<table border=\"1\" class=\"dataframe\">\n",
              "  <thead>\n",
              "    <tr style=\"text-align: right;\">\n",
              "      <th></th>\n",
              "      <th># samples</th>\n",
              "      <th>observed conversion rate without uplift model</th>\n",
              "      <th>predicted conversion rate using uplift model</th>\n",
              "      <th>predicted improvement rate</th>\n",
              "    </tr>\n",
              "  </thead>\n",
              "  <tbody>\n",
              "    <tr>\n",
              "      <th>train</th>\n",
              "      <td>800</td>\n",
              "      <td>0.1825</td>\n",
              "      <td>0.46625</td>\n",
              "      <td>2.554795</td>\n",
              "    </tr>\n",
              "    <tr>\n",
              "      <th>test</th>\n",
              "      <td>200</td>\n",
              "      <td>0.2150</td>\n",
              "      <td>0.47500</td>\n",
              "      <td>2.209302</td>\n",
              "    </tr>\n",
              "  </tbody>\n",
              "</table>\n",
              "</div>"
            ],
            "text/plain": [
              "       # samples  observed conversion rate without uplift model  \\\n",
              "train        800                                         0.1825   \n",
              "test         200                                         0.2150   \n",
              "\n",
              "       predicted conversion rate using uplift model  \\\n",
              "train                                       0.46625   \n",
              "test                                        0.47500   \n",
              "\n",
              "       predicted improvement rate  \n",
              "train                    2.554795  \n",
              "test                     2.209302  "
            ]
          },
          "metadata": {
            "tags": []
          }
        }
      ]
    },
    {
      "cell_type": "markdown",
      "metadata": {
        "colab_type": "text",
        "id": "IotMfPq0NzjH"
      },
      "source": [
        "Targeting based on recommendation by uplift model is predicted to increase the conversion rate by 2.2 times (0.215 to 0.475) on the simulated observational data!"
      ]
    }
  ]
}